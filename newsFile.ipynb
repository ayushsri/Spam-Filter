{
 "cells": [
  {
   "cell_type": "code",
   "execution_count": 10,
   "metadata": {},
   "outputs": [],
   "source": [
    "import json\n",
    "import urllib.request\n",
    "\n",
    "url = 'https://newsapi.org/v1/articles?source=abc-news-au&sortBy=top&apiKey=043ebbb54491468cb62b76c702bad05b'\n",
    "response = urllib.request.urlopen(url)\n",
    "data = json.loads(response.read())"
   ]
  },
  {
   "cell_type": "code",
   "execution_count": 11,
   "metadata": {},
   "outputs": [
    {
     "data": {
      "text/plain": [
       "['An England collapse and a solid start to the final innings has put Australia on the verge of victory at the Gabba, needing 56 more runs to win the first Ashes Test.',\n",
       " \"Protests about the treatment of refugees on Manus Island are held in cities as footage out of the refugees' new home appears to show unfinished accommodation and no power.\",\n",
       " 'ABC election analyst Antony Green is predicting Labor will win the Queensland election with 48 seats.',\n",
       " 'SA grandmother Mandy Illman describes how she was suddenly struck down by a rare condition, which left her unable to move anything but eyes.',\n",
       " 'Big tobacco is forced to run advertisements saying that smoking kills, and cigarettes are intentionally designed to get people addicted.',\n",
       " 'Thousands of Victorians will soon be eligible for a new power rebate from three major companies, but a price hike is still on the way next year.',\n",
       " 'An injured rooster in the United States is learning to walk again with the help of a Melbourne-made wheelchair and a kind anonymous donor.',\n",
       " 'Pat Ryan made a compression bandage out of garbage bags to treat a snake bite.',\n",
       " 'Will Adelaide United be celebrating a win at home to Western Sydney Wanderers? Find out by following our A-League ScoreCentre.',\n",
       " 'Ricky Ponting believes Steve Smith is poised to become the greatest batsman of the modern era after witnessing his heroic century in the first Ashes Test.']"
      ]
     },
     "execution_count": 11,
     "metadata": {},
     "output_type": "execute_result"
    }
   ],
   "source": [
    "# data['articles']\n",
    "textDesc = []\n",
    "for article in data['articles']:\n",
    "    textDesc.append(article['description'])\n",
    "textDesc"
   ]
  },
  {
   "cell_type": "code",
   "execution_count": 18,
   "metadata": {},
   "outputs": [],
   "source": [
    "file = open( 'news.txt','w' )\n",
    "for line in textDesc:\n",
    "    file.write(line+'\\t\\n')\n"
   ]
  },
  {
   "cell_type": "code",
   "execution_count": null,
   "metadata": {
    "collapsed": true
   },
   "outputs": [],
   "source": []
  }
 ],
 "metadata": {
  "kernelspec": {
   "display_name": "Python 3",
   "language": "python",
   "name": "python3"
  },
  "language_info": {
   "codemirror_mode": {
    "name": "ipython",
    "version": 3
   },
   "file_extension": ".py",
   "mimetype": "text/x-python",
   "name": "python",
   "nbconvert_exporter": "python",
   "pygments_lexer": "ipython3",
   "version": "3.6.1"
  }
 },
 "nbformat": 4,
 "nbformat_minor": 2
}
